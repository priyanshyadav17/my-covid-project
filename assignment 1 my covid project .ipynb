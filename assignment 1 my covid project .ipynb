{
 "cells": [
  {
   "cell_type": "code",
   "execution_count": null,
   "metadata": {},
   "outputs": [],
   "source": [
    "def covid_test():\n",
    "    if ((INPUT1>60) & (INPUT2=='Y') & (INPUT3=='Y') & (INPUT4=='Y')):\n",
    "        print('Your symtoms are serious You might have covid !!! Rush to Doctor')\n",
    "    elif ((INPUT1<60) & (INPUT5=='Y') & (INPUT6=='Y') & (INPUT7=='Y')):\n",
    "        print('you might be at risk get home quarantine for 14 days')\n",
    "    elif ((INPUT1<60) & (INPUT8=='Y') & (INPUT9=='Y') & (INPUT10=='Y')):\n",
    "        print('you might have flu Take a rest for a peroid of time and get home quarantine')\n",
    "        print('NEXT')\n"
   ]
  },
  {
   "cell_type": "code",
   "execution_count": null,
   "metadata": {},
   "outputs": [
    {
     "name": "stdout",
     "output_type": "stream",
     "text": [
      "Pateint No.:1\n"
     ]
    }
   ],
   "source": [
    "for i in range (1,3):\n",
    "    print('Pateint No.:{}'.format(i))\n",
    "    INPUT0=input('What is your name?')\n",
    "    INPUT1=int(input('What is your Age?'))\n",
    "    INPUT2=input('Do you feel chest pain or pressure?(Y/N)')\n",
    "    INPUT3=input('Do you feel difficulty in breathing or shortness of breath?(Y/N)')\n",
    "    INPUT4=input( 'Do you feel loss of speech or movement?(Y/N)')\n",
    "    INPUT5=input('Do you feel headache?(Y/N)')\n",
    "    INPUT6=input('Do you feel loss of taste or smell?(Y/N)')\n",
    "    INPUT7=input('Do you feel aches and pains?(Y/N)')\n",
    "    INPUT8=input('Do you have fever?(Y/N)')\n",
    "    INPUT9=input('Do you feel tiredness?(Y/N)')\n",
    "    INPUT10=input('Do you have dry cough?(Y/N)')\n",
    "    covid_test()"
   ]
  },
  {
   "cell_type": "code",
   "execution_count": null,
   "metadata": {},
   "outputs": [],
   "source": []
  }
 ],
 "metadata": {
  "kernelspec": {
   "display_name": "Python 3",
   "language": "python",
   "name": "python3"
  },
  "language_info": {
   "codemirror_mode": {
    "name": "ipython",
    "version": 3
   },
   "file_extension": ".py",
   "mimetype": "text/x-python",
   "name": "python",
   "nbconvert_exporter": "python",
   "pygments_lexer": "ipython3",
   "version": "3.7.6"
  }
 },
 "nbformat": 4,
 "nbformat_minor": 4
}
