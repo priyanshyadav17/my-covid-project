{
 "cells": [
  {
   "cell_type": "code",
   "execution_count": 1,
   "metadata": {},
   "outputs": [],
   "source": [
    "from  tkinter import *\n",
    "from PIL import ImageTk, Image\n",
    "\n",
    "from tkinter.ttk import Combobox\n",
    "from tkinter import messagebox as mbox\n",
    "from csv import reader"
   ]
  },
  {
   "cell_type": "code",
   "execution_count": 2,
   "metadata": {},
   "outputs": [],
   "source": [
    "tkt=Tk()\n",
    "tkt.geometry(\"600x600\")\n",
    "img = Image.open(\"corona.png\")\n",
    "photo = ImageTk.PhotoImage(img)\n",
    "Label(tkt,image=photo,bg='snow',bd=0).pack()"
   ]
  },
  {
   "cell_type": "code",
   "execution_count": 3,
   "metadata": {},
   "outputs": [
    {
     "data": {
      "text/plain": [
       "''"
      ]
     },
     "execution_count": 3,
     "metadata": {},
     "output_type": "execute_result"
    }
   ],
   "source": [
    "tkt.title(\"PANDEMIC ANAYLSER\")"
   ]
  },
  {
   "cell_type": "code",
   "execution_count": 4,
   "metadata": {},
   "outputs": [],
   "source": [
    "with open(\"STATEWISE_NEW_COVID_DATA2.csv\",'r') as read_obj:\n",
    "    data=reader(read_obj)\n",
    "    list_of_rows=list(data)"
   ]
  },
  {
   "cell_type": "code",
   "execution_count": 5,
   "metadata": {},
   "outputs": [],
   "source": [
    "lbl1=Label(tkt, text=\"Name of state:\", bg='black',fg='white', font=(\"TimesNewRoman\", 16)) #fg = font color\n",
    "lbl1.place(x=0, y=20)\n",
    "\n",
    "Confirmed=Entry()\n",
    "Confirmed.place(x=200, y=60,width=150,height=30)\n",
    "\n",
    "lbl2=Label(tkt, text=\"Confirmed cases:\", bg='black',fg='white', font=(\"TimesNewRoman\", 16)) #fg = font color\n",
    "lbl2.place(x=0, y=60)\n",
    "\n",
    "Recovered=Entry()\n",
    "Recovered.place(x=200, y=100,width=150,height=30)\n",
    "\n",
    "lbl3=Label(tkt, text=\"Active cases:\", bg='black',fg='white', font=(\"TimesNewRoman\", 16)) #fg = font color\n",
    "lbl3.place(x=0, y=100)\n",
    "\n",
    "Active=Entry()\n",
    "Active.place(x=200, y=140,width=150,height=30)\n",
    "\n",
    "lbl4=Label(tkt, text=\"Recovered cases:\",bg='black', fg='white', font=(\"TimesNewRoman\", 16))\n",
    "lbl4.place(x=0, y=140)\n",
    "\n",
    "Population=Entry()\n",
    "Population.place(x=200, y=180,width=150,height=30)\n",
    "\n",
    "lbl4=Label(tkt, text=\"Population of state:\", bg='black',fg='white', font=(\"TimesNewRoman\", 16))\n",
    "lbl4.place(x=0, y=180)"
   ]
  },
  {
   "cell_type": "code",
   "execution_count": 6,
   "metadata": {},
   "outputs": [],
   "source": [
    "data1=[]\n",
    "data2=[]\n",
    "for i in range(len(list_of_rows )):   \n",
    "    data1.append(list_of_rows [i])\n",
    "    data2.append(data1[i][0]) "
   ]
  },
  {
   "cell_type": "code",
   "execution_count": 7,
   "metadata": {},
   "outputs": [
    {
     "name": "stdout",
     "output_type": "stream",
     "text": [
      "[['State/UTs', 'Confirmed', 'Active', 'Recovered', 'Deaths', 'Population'], ['Andaman and Nicobar', '363', '166', '196', '1', '380581'], ['Andhra Pradesh', '110297', '56527', '52622', '1148', '49577103'], ['Arunachal Pradesh', '1330', '710', '617', '3', '1383727'], ['Assam', '34947', '8241', '26618', '88', '31205576'], ['Bihar', '43843', '14718', '28856', '269', '104099452'], ['Chandigarh', '934', '321', '599', '14', '1055450'], ['Chhattisgarh', '8257', '2772', '5439', '46', '25545198'], ['Dadra and Nagar Haveli and Daman and Diu', '982', '384', '596', '2', '585764'], ['Delhi', '132275', '10887', '117507', '3881', '16787941'], ['Goa', '5287', '1656', '3595', '36', '1458545'], ['Gujarat', '57982', '13198', '42412', '2372', '60439692'], ['Haryana', '32876', '6712', '25758', '406', '25351462'], ['Himachal Pradesh', '2330', '1082', '1234', '14', '6864602'], ['Jammu and Kashmir', '18879', '7661', '10885', '333', '12267032'], ['Jharkhand', '9078', '5121', '3868', '89', '32988134'], ['Karnataka', '107001', '64442', '40504', '2055', '61095297'], ['Kerala', '20894', '10103', '10724', '67', '33406061'], ['Ladakh', '1327', '254', '1067', '6', '274000'], ['Lakshadweep', '0', '0', '0', '0', '64473'], ['Madhya Pradesh', '29217', '8044', '20343', '830', '72626809'], ['Maharashtra', '391440', '144998', '232277', '14165', '112374333'], ['Manipur', '2317', '705', '1612', '0', '2570390'], ['Meghalaya', '779', '580', '194', '5', '2966889'], ['Mizoram', '384', '186', '198', '0', '1097206'], ['Nagaland', '1460', '878', '577', '5', '1978502'], ['Odisha', '28107', '9892', '18061', '154', '41974219'], ['Puducherry', '3011', '1182', '1782', '47', '1247953'], ['Punjab', '14378', '4290', '9752', '336', '27743338'], ['Rajasthan', '38514', '10668', '27202', '644', '68548437'], ['Sikkim', '579', '392', '186', '1', '610577'], ['Tamil Nadu', '227688', '57073', '166956', '3659', '72147030'], ['Telengana', '57142', '13753', '42909', '480', '35003674'], ['Tripura', '4269', '1627', '2621', '21', '3673917'], ['Uttar Pradesh', '73951', '27934', '44520', '1497', '199812341'], ['Uttarakhand', '6587', '2797', '3720', '70', '10086292'], ['West Bengal', '62964', '19493', '42022', '1449', '91276115'], ['Andaman and Nicobar', '363', '166', '196', '1', '380581']]\n",
      "NEXT DATA 2\n",
      "['State/UTs', 'Andaman and Nicobar', 'Andhra Pradesh', 'Arunachal Pradesh', 'Assam', 'Bihar', 'Chandigarh', 'Chhattisgarh', 'Dadra and Nagar Haveli and Daman and Diu', 'Delhi', 'Goa', 'Gujarat', 'Haryana', 'Himachal Pradesh', 'Jammu and Kashmir', 'Jharkhand', 'Karnataka', 'Kerala', 'Ladakh', 'Lakshadweep', 'Madhya Pradesh', 'Maharashtra', 'Manipur', 'Meghalaya', 'Mizoram', 'Nagaland', 'Odisha', 'Puducherry', 'Punjab', 'Rajasthan', 'Sikkim', 'Tamil Nadu', 'Telengana', 'Tripura', 'Uttar Pradesh', 'Uttarakhand', 'West Bengal', 'Andaman and Nicobar']\n"
     ]
    }
   ],
   "source": [
    "data1.append(list_of_rows[1])\n",
    "print(data1)\n",
    "print(\"NEXT DATA 2\")\n",
    "data2.append(data1[1][0])\n",
    "print(data2)"
   ]
  },
  {
   "cell_type": "code",
   "execution_count": 8,
   "metadata": {},
   "outputs": [],
   "source": [
    "def enable_items():\n",
    "   \n",
    "    Confirmed.configure(state='normal')  \n",
    "    Recovered.configure(state='normal')\n",
    "    Active.configure(state='normal')\n",
    "    Population.configure(state='normal')\n",
    "    \n",
    " \n",
    "    Confirmed.delete(0, 'end')\n",
    "    Recovered.delete(0, 'end')\n",
    "    Active.delete(0, 'end')\n",
    "    Population.delete(0, 'end')  \n",
    "    \n",
    "    \n",
    "    Deaths.configure(state='normal')\n",
    "    Deaths.delete(0, 'end')\n",
    "    \n",
    "    CMR.configure(state='normal')\n",
    "    CMR.delete(0, 'end')\n",
    "    \n",
    "    IFR.configure(state='normal')\n",
    "    IFR.delete(0,'end')"
   ]
  },
  {
   "cell_type": "code",
   "execution_count": 9,
   "metadata": {},
   "outputs": [],
   "source": [
    "def on_Data_changed():\n",
    "    #print(data1)\n",
    "    enable_items()\n",
    "    for i in range(len(data1)):\n",
    "            #print(data1)\n",
    "    \n",
    "            dat=data1[i][0]\n",
    "            if cb.get()==dat:\n",
    "               \n",
    "                Confirmed.insert(END, data1[i][1])\n",
    "                Recovered.insert(END, data1[i][2])\n",
    "                Active.insert(END, data1[i][3])\n",
    "                Population.insert(END, data1[i][5])\n",
    "                \n",
    "                \n",
    "                \n",
    "              \n",
    "                Confirmed.configure(state='disabled')\n",
    "                Recovered.configure(state='disabled')\n",
    "                Active.configure(state='disabled')\n",
    "                Population.configure(state='disabled')"
   ]
  },
  {
   "cell_type": "code",
   "execution_count": 10,
   "metadata": {},
   "outputs": [],
   "source": [
    "cb=Combobox(tkt,values=data2)    \n",
    "cb.place(x=200, y=20,width=150,height=30)\n",
    "\n",
    "clk = Button(tkt, text='Click',bg=\"snow\",fg=\"red\",command=on_Data_changed) \n",
    "clk.place(x=360, y=20,height=30)"
   ]
  },
  {
   "cell_type": "code",
   "execution_count": 11,
   "metadata": {},
   "outputs": [],
   "source": [
    "def CALCULATE_DEATHS():\n",
    "    ConfirmedCase=int(Confirmed.get())\n",
    "    RecoveredCase=int(Recovered.get())\n",
    "    ActiveCase= int(Active.get())\n",
    "    \n",
    "    NO_OF_DEATHS=ConfirmedCase-(RecoveredCase+ActiveCase)\n",
    "    Deaths.insert(END, str(NO_OF_DEATHS))\n",
    "    Deaths.configure(state='disabled')"
   ]
  },
  {
   "cell_type": "code",
   "execution_count": 12,
   "metadata": {},
   "outputs": [],
   "source": [
    "def Cmr():\n",
    "    Death=int(Deaths.get())\n",
    "    population_OF_STATE=int(Population.get())\n",
    "    \n",
    "    \n",
    "    CMR_CALCULATED= ((Death/population_OF_STATE)*100000)\n",
    "    CMR.insert(END, str(CMR_CALCULATED))\n",
    "    CMR.configure(state='disabled')"
   ]
  },
  {
   "cell_type": "code",
   "execution_count": 13,
   "metadata": {},
   "outputs": [],
   "source": [
    "def Ifr():\n",
    "    Death=int(Deaths.get())\n",
    "    Confirmedcase=int(Confirmed.get())\n",
    "    IFR_CALCULATED= ((Death/Confirmedcase)*100)\n",
    "    IFR.insert(END, str(IFR_CALCULATED))\n",
    "    IFR.configure(state='disabled')"
   ]
  },
  {
   "cell_type": "code",
   "execution_count": 14,
   "metadata": {},
   "outputs": [],
   "source": [
    "Deaths=Button(tkt, text='Deceased',bg=\"red\",fg=\"white\",command=CALCULATE_DEATHS)\n",
    "Deaths.place(x=150, y=230)\n",
    "\n",
    "CMR=Button(tkt, text='CMR',bg=\"seagreen\",fg=\"white\",command=Cmr)\n",
    "CMR.place(x=250, y=230)\n",
    "\n",
    "IFR=Button(tkt, text='IFR',bg=\"seagreen\",fg=\"white\",command=Ifr)\n",
    "IFR.place(x=350, y=230)\n",
    "\n",
    "Deaths=Entry()\n",
    "Deaths.place(x=150, y=260,width=150,height=30)\n",
    "lbl6=Label(tkt, text=\"Deaths\", fg='white',bg=\"black\", font=(\"ComicSansMS\", 16))\n",
    "lbl6.place(x=0, y=260)\n",
    "\n",
    "lbl6=Label(tkt, text=\"Confirmed-(active+recovered)\", fg='red', font=(\"ComicSansMS\", 10))\n",
    "lbl6.place(x=400, y=260)\n",
    "\n",
    "CMR=Entry()\n",
    "CMR.place(x=150, y=330,width=150,height=30)\n",
    "lbl7=Label(tkt, text=\"CMR\", fg='white',bg=\"black\",font=(\"ComicSansMS\", 16))\n",
    "lbl7.place(x=0, y=330)\n",
    "\n",
    "lbl7=Label(tkt, text=\"Deaths/population\", fg='red', font=(\"ComicSansMS\", 10))\n",
    "lbl7.place(x=400, y=330)\n",
    "\n",
    "\n",
    "IFR=Entry()\n",
    "IFR.place(x=150, y=400,width=150,height=30)\n",
    "lbl7=Label(tkt, text=\"IFR\", fg='white',bg=\"black\",font=(\"ComicSansMS\", 16))\n",
    "lbl7.place(x=0, y=400)\n",
    "\n",
    "lbl7=Label(tkt, text=\"Deaths/Confirmed\", fg='red', font=(\"ComicSansMS\", 10))\n",
    "lbl7.place(x=400, y=400)\n",
    "tkt.mainloop()"
   ]
  },
  {
   "cell_type": "code",
   "execution_count": null,
   "metadata": {},
   "outputs": [],
   "source": []
  }
 ],
 "metadata": {
  "kernelspec": {
   "display_name": "Python 3",
   "language": "python",
   "name": "python3"
  },
  "language_info": {
   "codemirror_mode": {
    "name": "ipython",
    "version": 3
   },
   "file_extension": ".py",
   "mimetype": "text/x-python",
   "name": "python",
   "nbconvert_exporter": "python",
   "pygments_lexer": "ipython3",
   "version": "3.7.6"
  }
 },
 "nbformat": 4,
 "nbformat_minor": 4
}
